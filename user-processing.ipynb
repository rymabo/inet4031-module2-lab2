{
 "cells": [
  {
   "cell_type": "code",
   "execution_count": null,
   "id": "e26df15f-b2a1-44d4-8ee3-b1ea0ead15a4",
   "metadata": {},
   "outputs": [
    {
     "name": "stdout",
     "output_type": "stream",
     "text": [
      "\n",
      "list-of-users was read.\n"
     ]
    }
   ],
   "source": [
    "# INET4031 Module 1\n",
    "#\n",
    "# User List Processing Program\n",
    "#\n",
    "# Created: Nov 11, 2024\n",
    "# Updated: Jan 6, 2025\n",
    "#\n",
    "\n",
    "# open the user list file\n",
    "userFile = open(\"list-of-users.txt\", \"r\")\n",
    "\n",
    "# load the lines of the file into a list\n",
    "listOfUsers = userFile.readlines()\n",
    "print(\"\\nlist-of-users was read.\")\n",
    "\n",
    "# ask the user to proceed\n",
    "answer = input(\"\\nDo you want to print out the list of users? (Y or N)\")\n",
    "\n",
    "if answer == \"Y\" or answer == \"y\":\n",
    "    for userline in listOfUsers:\n",
    "        print(\"\\n\", userline)\n",
    "else:\n",
    "    print(\"\\nOk not printing, ending program.\")\n",
    "\n",
    "print(\"\\nEnd of User Processing\\n\")"
   ]
  },
  {
   "cell_type": "code",
   "execution_count": null,
   "id": "80c6d0f5-cd2f-4ad6-9f42-03981a508d65",
   "metadata": {},
   "outputs": [],
   "source": []
  },
  {
   "cell_type": "code",
   "execution_count": null,
   "id": "db0e4408-a0e4-4696-bf87-fcb055f55931",
   "metadata": {},
   "outputs": [],
   "source": []
  }
 ],
 "metadata": {
  "kernelspec": {
   "display_name": "Python 3 (ipykernel)",
   "language": "python",
   "name": "python3"
  },
  "language_info": {
   "codemirror_mode": {
    "name": "ipython",
    "version": 3
   },
   "file_extension": ".py",
   "mimetype": "text/x-python",
   "name": "python",
   "nbconvert_exporter": "python",
   "pygments_lexer": "ipython3",
   "version": "3.10.7"
  }
 },
 "nbformat": 4,
 "nbformat_minor": 5
}
